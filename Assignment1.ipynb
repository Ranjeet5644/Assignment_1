{
 "cells": [
  {
   "cell_type": "markdown",
   "id": "c7876424",
   "metadata": {},
   "source": [
    "Q1."
   ]
  },
  {
   "cell_type": "code",
   "execution_count": null,
   "id": "ad907bb4",
   "metadata": {},
   "outputs": [],
   "source": [
    "l = ['Ranjeet',['India'],5.654,(1,'Rohit')]"
   ]
  },
  {
   "cell_type": "code",
   "execution_count": null,
   "id": "463ca80c",
   "metadata": {},
   "outputs": [],
   "source": [
    "l"
   ]
  },
  {
   "cell_type": "markdown",
   "id": "2ab55880",
   "metadata": {},
   "source": [
    "Q2."
   ]
  },
  {
   "cell_type": "code",
   "execution_count": null,
   "id": "9bb88f31",
   "metadata": {},
   "outputs": [],
   "source": [
    "var1 =''\n",
    "print(type(var1))\n",
    "var2 = '[DS,ML,Python]'\n",
    "print(type(var2))\n",
    "var3 = ['DS','ML','Python']\n",
    "print(type(var3))\n",
    "var4 =1\n",
    "print(type(var4))\n"
   ]
  },
  {
   "cell_type": "markdown",
   "id": "527e1e07",
   "metadata": {},
   "source": [
    "Q3."
   ]
  },
  {
   "cell_type": "markdown",
   "id": "8cda9fec",
   "metadata": {},
   "source": [
    "i./ (Division Operator):\n",
    "The division operator (/) in Python is used to perform division between two numbers and returns the quotient as a floating-point number. It calculates the result of dividing the left operand by the right operand.the division operator (/) is used to divide the value of a (which is 23) by the value of b (which is 3). The result is assigned to the variable result and then printed. The output is a floating-point number because the division operator always returns a float, even if the operands are integers."
   ]
  },
  {
   "cell_type": "code",
   "execution_count": null,
   "id": "f8661ccb",
   "metadata": {},
   "outputs": [],
   "source": [
    "a = 23\n",
    "b = 3\n",
    "result = a / b\n",
    "print(result)"
   ]
  },
  {
   "cell_type": "markdown",
   "id": "a1bfdc41",
   "metadata": {},
   "source": [
    "ii.% (Modulo Operator):\n",
    "The modulo operator (%) in Python is used to find the remainder of the division between two numbers. It calculates the remainder when the left operand is divided by the right operand."
   ]
  },
  {
   "cell_type": "code",
   "execution_count": null,
   "id": "62d92755",
   "metadata": {},
   "outputs": [],
   "source": [
    "a = 23\n",
    "b = 3\n",
    "result = a % b\n",
    "print(result)\n"
   ]
  },
  {
   "cell_type": "markdown",
   "id": "3f356d66",
   "metadata": {},
   "source": [
    "iii.// (Floor Division Operator):\n",
    "The floor division operator (//) in Python is used to perform division between two numbers and returns the quotient as an integer, discarding any fractional part. It calculates the largest integer that is less than or equal to the division result."
   ]
  },
  {
   "cell_type": "code",
   "execution_count": null,
   "id": "c92f02df",
   "metadata": {},
   "outputs": [],
   "source": [
    "a = 20\n",
    "b = 3\n",
    "result = a // b\n",
    "print(result)\n"
   ]
  },
  {
   "cell_type": "markdown",
   "id": "d14ae285",
   "metadata": {},
   "source": [
    "iv.** (Exponentiation Operator):\n",
    "The exponentiation operator (**) in Python is used to raise a number to a power. It calculates the result of raising the left operand to the power of the right operand."
   ]
  },
  {
   "cell_type": "code",
   "execution_count": null,
   "id": "77cb5cd7",
   "metadata": {},
   "outputs": [],
   "source": [
    "a = 2\n",
    "b = 3\n",
    "result = a ** b\n",
    "print(result)\n"
   ]
  },
  {
   "cell_type": "markdown",
   "id": "bb31a93b",
   "metadata": {},
   "source": [
    "Q4."
   ]
  },
  {
   "cell_type": "code",
   "execution_count": null,
   "id": "9707ef84",
   "metadata": {},
   "outputs": [],
   "source": [
    "s = [1,2,3,4,'Ranjeet',3.456,True,['India'],9]"
   ]
  },
  {
   "cell_type": "code",
   "execution_count": null,
   "id": "555e90d6",
   "metadata": {},
   "outputs": [],
   "source": [
    "for i in s :\n",
    "    print(i)\n",
    "    print(type(i))"
   ]
  },
  {
   "cell_type": "markdown",
   "id": "efae7723",
   "metadata": {},
   "source": [
    "Q6."
   ]
  },
  {
   "cell_type": "code",
   "execution_count": null,
   "id": "651a88e2",
   "metadata": {},
   "outputs": [],
   "source": [
    " p = [1,2,3,4,5,6,7,8,9,10,11,12,13,14,15,16,17,18,19,20,21,22,23,24,25]"
   ]
  },
  {
   "cell_type": "code",
   "execution_count": null,
   "id": "3aa10e7c",
   "metadata": {},
   "outputs": [],
   "source": [
    "for i in p :\n",
    "    if i%3==0 :\n",
    "        print(f\"{i} is divisible by 3\")\n",
    "    else :\n",
    "        print(f\"{i} is not divisible by 3\") \n",
    "\n",
    "        \n",
    "        "
   ]
  },
  {
   "cell_type": "markdown",
   "id": "e22c35ec",
   "metadata": {},
   "source": [
    "Q5."
   ]
  },
  {
   "cell_type": "code",
   "execution_count": 1,
   "id": "f6025463",
   "metadata": {},
   "outputs": [
    {
     "name": "stdout",
     "output_type": "stream",
     "text": [
      "Enter the dividend (A): 25\n",
      "Enter the divisor (B): 5\n",
      "1.0 is divisible by 5 and can be divided 2 times.\n"
     ]
    }
   ],
   "source": [
    "\n",
    "A = int(input(\"Enter the dividend (A): \"))\n",
    "B = int(input(\"Enter the divisor (B): \"))\n",
    "\n",
    "count = 0\n",
    "\n",
    "while A % B == 0:\n",
    "    A = A / B\n",
    "    count += 1\n",
    "    \n",
    "\n",
    "# Print the result\n",
    "if count > 0:\n",
    "    print(f\"{A} is divisible by {B} and can be divided {count} times.\")\n",
    "else:\n",
    "    print(f\"{A} is not divisible by {B}.\")\n"
   ]
  },
  {
   "cell_type": "markdown",
   "id": "be94e54e",
   "metadata": {},
   "source": [
    "Q7."
   ]
  },
  {
   "cell_type": "markdown",
   "id": "845c5b13",
   "metadata": {},
   "source": [
    " Immutable data types :- Immutable data types are those whose values cannot be changed after they are created. Any operation that appears to modify an immutable object actually creates a new object with the modified value. Examples of immutable data types in Python include integers, floats, strings, and tuples."
   ]
  },
  {
   "cell_type": "code",
   "execution_count": null,
   "id": "51cb88bc",
   "metadata": {},
   "outputs": [],
   "source": [
    "name = \"Ranjeev\"\n",
    "\n",
    "# Attempting to modify the string\n",
    "name[0] = \"s\"  # Raises a TypeError: 'str' object does not support item assignment\n",
    "\n",
    "# Reassigning the variable with a new string value\n",
    "name = \"san\"\n",
    "print(name)  # Output: san"
   ]
  },
  {
   "cell_type": "markdown",
   "id": "a8be7a95",
   "metadata": {},
   "source": [
    "Mutable data type :- mutable data types are those that allow their values to be modified after they are created. Operations can directly modify the data without creating a new object. Examples of mutable data types in Python include lists, dictionaries, and sets. Here's an example demonstrating the properties of a mutable data type (list):"
   ]
  },
  {
   "cell_type": "code",
   "execution_count": 3,
   "id": "72e62160",
   "metadata": {},
   "outputs": [
    {
     "name": "stdout",
     "output_type": "stream",
     "text": [
      "[10, 2, 4, 5, 6]\n"
     ]
    }
   ],
   "source": [
    "\n",
    "numbers = [1, 2, 3, 4, 5]\n",
    "\n",
    "# Modifying the list\n",
    "numbers[0] = 10\n",
    "numbers.append(6)\n",
    "numbers.remove(3)\n",
    "\n",
    "print(numbers)  "
   ]
  },
  {
   "cell_type": "code",
   "execution_count": null,
   "id": "62303268",
   "metadata": {},
   "outputs": [],
   "source": []
  }
 ],
 "metadata": {
  "kernelspec": {
   "display_name": "Python 3 (ipykernel)",
   "language": "python",
   "name": "python3"
  },
  "language_info": {
   "codemirror_mode": {
    "name": "ipython",
    "version": 3
   },
   "file_extension": ".py",
   "mimetype": "text/x-python",
   "name": "python",
   "nbconvert_exporter": "python",
   "pygments_lexer": "ipython3",
   "version": "3.11.3"
  }
 },
 "nbformat": 4,
 "nbformat_minor": 5
}
